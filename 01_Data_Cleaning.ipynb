{
 "cells": [
  {
   "cell_type": "code",
   "execution_count": 5,
   "metadata": {},
   "outputs": [],
   "source": [
    "import seaborn as sns\n",
    "import pandas as pd\n",
    "import warnings\n",
    "warnings.filterwarnings('ignore')\n",
    "warnings.filterwarnings(\"ignore\", message=\"numpy.ufunc size changed\")\n",
    "import matplotlib.pyplot as plt\n",
    "import seaborn as sns\n",
    "%matplotlib inline\n",
    "pd.set_option('display.max_columns', None)\n",
    "import re\n",
    "from statsmodels.stats.outliers_influence import variance_inflation_factor\n",
    "from statsmodels.tools.tools import add_constant\n",
    "from scipy.stats import chi2_contingency\n",
    "from bs4 import BeautifulSoup\n",
    "import requests\n",
    "import re \n",
    "import time\n",
    "import json\n",
    "import pickle\n",
    "import numpy as np\n",
    "import math"
   ]
  },
  {
   "cell_type": "code",
   "execution_count": 6,
   "metadata": {},
   "outputs": [],
   "source": [
    "def get_sub_genres_by_wikipedia(main_genre,sub_counts,urls):\n",
    "    wiki = \"https://de.wikipedia.org\"\n",
    "    dic_genre_w_sub = dict()\n",
    "    offset = 0\n",
    "    for x, genre in enumerate(main_genre):\n",
    "        sub_genre_list = list()\n",
    "        for i in range(0,sub_counts[x]): \n",
    "            url_sub = wiki+urls[x+offset+i]\n",
    "            response = requests.get(url_sub)\n",
    "            time.sleep(2)\n",
    "            print(genre + \" mit Url: \" +url_sub)\n",
    "            soup = BeautifulSoup(response.content, \"html.parser\")\n",
    "            result = soup.select(\"div > ul > li > a\")\n",
    "            y = 0\n",
    "            match = re.search(r'\\bwiki/Kategorie:\\b',result[y].get('href'))\n",
    "            if match:\n",
    "                TF = True\n",
    "            else:\n",
    "                TF = False\n",
    "            while (TF == False):\n",
    "                sub_genre_list.append(result[y].get_text())\n",
    "                #print(result[y].get_text())\n",
    "                y+=1\n",
    "                match = re.search(r'\\bwiki/Kategorie:\\b',result[y].get('href'))\n",
    "                if match:\n",
    "                    TF = True\n",
    "                else:\n",
    "                    TF = False\n",
    "        dic_genre_w_sub.update({genre:sub_genre_list})\n",
    "        offset = offset + (sub_counts[x]-1)\n",
    "    return dic_genre_w_sub"
   ]
  },
  {
   "cell_type": "code",
   "execution_count": 11,
   "metadata": {},
   "outputs": [],
   "source": [
    "def clean_genre(feature):\n",
    "    #feature_list = list()\n",
    "    if isinstance(feature, list):\n",
    "        while any([type(element) is list for element in feature]):\n",
    "            i = 0\n",
    "            #print(feature)\n",
    "            while i < len(feature):\n",
    "                #print(i)\n",
    "                if type(feature[i]) is list: \n",
    "                    if feature[i]:\n",
    "                        #print(feature)\n",
    "                        for elem in feature[i]:\n",
    "                            feature.append(elem)\n",
    "                        feature.pop(i)\n",
    "                        #print(feature)\n",
    "                    else:\n",
    "                        #print(\"empty list\")\n",
    "                        feature.pop(i)\n",
    "                else:\n",
    "                    i+=1\n",
    "        return feature\n",
    "    else:\n",
    "        return feature"
   ]
  },
  {
   "cell_type": "code",
   "execution_count": 277,
   "metadata": {},
   "outputs": [],
   "source": [
    "# def countoverlappingdistinct(pattern, thestring):\n",
    "#     total = 0\n",
    "#     start = 0\n",
    "#     there = re.compile(pattern, flags=re.IGNORECASE)\n",
    "#     while True:\n",
    "#         mo = there.search(thestring, start)\n",
    "#         if mo is None: \n",
    "#             return total\n",
    "#         total += 1\n",
    "#         start = 1 + mo.start()"
   ]
  },
  {
   "cell_type": "code",
   "execution_count": 126,
   "metadata": {},
   "outputs": [],
   "source": [
    "def get_main_genre(genres_df):\n",
    "    if isinstance(genres_df, list):\n",
    "        final_genre = []\n",
    "        max_count = 0\n",
    "        for genre in music_genre_dic.keys():\n",
    "            cur_count = 0\n",
    "            sub_genres = list(music_genre_dic[genre])\n",
    "            #Appending Main-Genre to Sub-Genres\n",
    "            sub_genres.append(genre)\n",
    "            for sub in sub_genres:\n",
    "                for element in genres_df:\n",
    "    #                 if len(genres_df) == 1:\n",
    "    #                     for sep_space in element.split(\" \"):\n",
    "    #                     for sep_hyphen in sep_space.split(\"-\"):\n",
    "    #                         count = len(re.findall(sep_hyphen,sub, flags=re.IGNORECASE))\n",
    "    #                         cur_count = cur_count + count\n",
    "    #                else:\n",
    "                        count = len(re.findall(element,sub, flags=re.IGNORECASE))\n",
    "                        cur_count = cur_count + count\n",
    "            if cur_count > max_count:\n",
    "                max_count = cur_count\n",
    "                final_genre = [genre]\n",
    "            elif (cur_count == max_count) and (cur_count != 0):\n",
    "                final_genre.append(genre)\n",
    "    #         print(\"cur_count\" + str(cur_count))\n",
    "    #         print(\"max_count\" + str(max_count))\n",
    "    #         print(\"Genre\" + genre)\n",
    "        if len(final_genre) > 1:\n",
    "            return \"Multiple\"\n",
    "        elif len(final_genre) == 1:\n",
    "            return final_genre[0]\n",
    "        else:\n",
    "            return \"Undefined\"\n",
    "    else:\n",
    "        return genres_df"
   ]
  },
  {
   "cell_type": "code",
   "execution_count": 5,
   "metadata": {},
   "outputs": [],
   "source": [
    "sub_genres_url = ['/wiki/Kategorie:Blues-Stil',\n",
    " '/wiki/Kategorie:Country-Musik-Stil',\n",
    " '/wiki/Kategorie:Stilrichtung_der_Dark_Music',\n",
    " '/wiki/Kategorie:Stilrichtung_Disco',\n",
    " '/wiki/Kategorie:Stil_der_elektronischen_Musik',\n",
    " '/wiki/Kategorie:Stil_der_elektronischen_Tanzmusik',\n",
    " '/wiki/Kategorie:House-Subgenre',\n",
    " '/wiki/Kategorie:Techno-Subgenre',\n",
    " '/wiki/Kategorie:Folk-Genre',\n",
    " '/wiki/Kategorie:Stilrichtung_des_Funk',\n",
    " '/wiki/Kategorie:Hip-Hop-Musiksubgenre',\n",
    " '/wiki/Kategorie:Jazz-Stil',\n",
    " '/wiki/Kategorie:Stilrichtung_der_Lateinamerikanischen_Musik',\n",
    " '/wiki/Kategorie:Brasilianischer_Musikstil',\n",
    " '/wiki/Kategorie:Stilrichtung_des_Metal',\n",
    " '/wiki/Kategorie:Stilrichtung_des_Doom_Metal',\n",
    " '/wiki/Kategorie:Stilrichtung_des_Death_Metal',\n",
    " '/wiki/Kategorie:Stilrichtung_der_Popmusik',\n",
    " '/wiki/Kategorie:Stilrichtung_des_Punk',\n",
    " '/wiki/Kategorie:Stilrichtung_des_Reggae',\n",
    " '/wiki/Kategorie:Stilrichtung_der_Rockmusik',\n",
    " '/wiki/Kategorie:Stilrichtung_des_Rock_%E2%80%99n%E2%80%99_Roll',\n",
    " '/wiki/Kategorie:Stilrichtung_des_Ska',\n",
    " '/wiki/Kategorie:Genre_der_traditionellen_Musik']"
   ]
  },
  {
   "cell_type": "code",
   "execution_count": 127,
   "metadata": {},
   "outputs": [],
   "source": [
    "music_genre = [\"Blues\",\"Country\", \"Dark Music\",\"Disco\", \"Electro\",\"Folk\", \"Funk\", \"Hip-Hop\",\"Jazz\",\n",
    "               \"Latin\", \"Metal\", \"Pop\",\"Punk\",\"Reggae\",\"Rock\", \"Rock ’n’ Roll\", \"Ska\", \"Traditional\"]\n",
    "music_subgenre_count = [1,1,1,1,4,1,1,1,1,2,3,1,1,1,1,1,1,1]"
   ]
  },
  {
   "cell_type": "code",
   "execution_count": 174,
   "metadata": {
    "scrolled": true
   },
   "outputs": [
    {
     "name": "stdout",
     "output_type": "stream",
     "text": [
      "Blues mit Url: https://de.wikipedia.org/wiki/Kategorie:Blues-Stil\n",
      "Country mit Url: https://de.wikipedia.org/wiki/Kategorie:Country-Musik-Stil\n",
      "Dark Music mit Url: https://de.wikipedia.org/wiki/Kategorie:Stilrichtung_der_Dark_Music\n",
      "Disco mit Url: https://de.wikipedia.org/wiki/Kategorie:Stilrichtung_Disco\n",
      "Electro mit Url: https://de.wikipedia.org/wiki/Kategorie:Stil_der_elektronischen_Musik\n",
      "Electro mit Url: https://de.wikipedia.org/wiki/Kategorie:Stil_der_elektronischen_Tanzmusik\n",
      "Electro mit Url: https://de.wikipedia.org/wiki/Kategorie:House-Subgenre\n",
      "Electro mit Url: https://de.wikipedia.org/wiki/Kategorie:Techno-Subgenre\n",
      "Folk mit Url: https://de.wikipedia.org/wiki/Kategorie:Folk-Genre\n",
      "Funk mit Url: https://de.wikipedia.org/wiki/Kategorie:Stilrichtung_des_Funk\n",
      "Hip-Hop mit Url: https://de.wikipedia.org/wiki/Kategorie:Hip-Hop-Musiksubgenre\n",
      "Jazz mit Url: https://de.wikipedia.org/wiki/Kategorie:Jazz-Stil\n",
      "Latin mit Url: https://de.wikipedia.org/wiki/Kategorie:Stilrichtung_der_Lateinamerikanischen_Musik\n",
      "Latin mit Url: https://de.wikipedia.org/wiki/Kategorie:Brasilianischer_Musikstil\n",
      "Metal mit Url: https://de.wikipedia.org/wiki/Kategorie:Stilrichtung_des_Metal\n",
      "Metal mit Url: https://de.wikipedia.org/wiki/Kategorie:Stilrichtung_des_Doom_Metal\n",
      "Metal mit Url: https://de.wikipedia.org/wiki/Kategorie:Stilrichtung_des_Death_Metal\n",
      "Pop mit Url: https://de.wikipedia.org/wiki/Kategorie:Stilrichtung_der_Popmusik\n",
      "Punk mit Url: https://de.wikipedia.org/wiki/Kategorie:Stilrichtung_des_Punk\n",
      "Reggae mit Url: https://de.wikipedia.org/wiki/Kategorie:Stilrichtung_des_Reggae\n",
      "Rock mit Url: https://de.wikipedia.org/wiki/Kategorie:Stilrichtung_der_Rockmusik\n",
      "Rock ’n’ Roll mit Url: https://de.wikipedia.org/wiki/Kategorie:Stilrichtung_des_Rock_%E2%80%99n%E2%80%99_Roll\n",
      "Ska mit Url: https://de.wikipedia.org/wiki/Kategorie:Stilrichtung_des_Ska\n",
      "Traditional mit Url: https://de.wikipedia.org/wiki/Kategorie:Genre_der_traditionellen_Musik\n"
     ]
    }
   ],
   "source": [
    "# music_genre_dic = get_sub_genres_by_wikipedia(music_genre,music_subgenre_count,sub_genres_url)"
   ]
  },
  {
   "cell_type": "code",
   "execution_count": 186,
   "metadata": {},
   "outputs": [],
   "source": [
    "# f = open(\"music_genre_dictionary.pkl\",\"wb\")\n",
    "# pickle.dump(music_genre_dic,f)\n",
    "# f.close()"
   ]
  },
  {
   "cell_type": "code",
   "execution_count": 178,
   "metadata": {},
   "outputs": [
    {
     "data": {
      "text/plain": [
       "18"
      ]
     },
     "execution_count": 178,
     "metadata": {},
     "output_type": "execute_result"
    }
   ],
   "source": [
    "# len(music_genre_dic)"
   ]
  },
  {
   "cell_type": "code",
   "execution_count": null,
   "metadata": {},
   "outputs": [],
   "source": [
    "# genre_list = [test['genre'].values[i][x] for i in range(len(test['genre'].values)) for x in range(len(test['genre'].values[i]))]\n",
    "# #genre_list.count(set(genre_list)[:])\n",
    "\n",
    "# genre_set = set(genre_list)\n",
    "# genre_set{1}\n",
    "\n",
    "#sns.histplot(genre_list, stat = 'count', thresh = 10)"
   ]
  },
  {
   "cell_type": "code",
   "execution_count": 7,
   "metadata": {},
   "outputs": [],
   "source": [
    "music_genre_dic = pickle.load(open(\"music_genre_dictionary.pkl\", \"rb\" ))\n",
    "# music_genre_dic[\"Rock ’n’ Roll\"].append(\"Rock 'n' Roll\")\n",
    "# music_genre_dic['Rock ’n’ Roll'].append(\"Rock 'n Roll\")\n",
    "# music_genre_dic['Rock ’n’ Roll'].append(\"Rock n Roll\")\n",
    "# music_genre_dic['Rock ’n’ Roll'].append(\"Rock n' Roll\")"
   ]
  },
  {
   "cell_type": "code",
   "execution_count": 8,
   "metadata": {},
   "outputs": [
    {
     "data": {
      "text/plain": [
       "dict_keys(['Blues', 'Country', 'Dark Music', 'Disco', 'Electro', 'Folk', 'Funk', 'Hip-Hop', 'Jazz', 'Latin', 'Metal', 'Pop', 'Punk', 'Reggae', 'Rock', 'Rock ’n’ Roll', 'Ska', 'Traditional'])"
      ]
     },
     "execution_count": 8,
     "metadata": {},
     "output_type": "execute_result"
    }
   ],
   "source": [
    "music_genre_dic.keys()"
   ]
  },
  {
   "cell_type": "code",
   "execution_count": 9,
   "metadata": {},
   "outputs": [],
   "source": [
    "df_songs = pd.read_pickle('full_songlist_all_genres.pickle')\n",
    "#df_songs = pd.read_pickle('full_songlist_without_duplicates_from_spotify_user.pickle')"
   ]
  },
  {
   "cell_type": "code",
   "execution_count": 12,
   "metadata": {},
   "outputs": [],
   "source": [
    "# clean the genre concerning nested lists:\n",
    "df_songs['genre_clean'] = df_songs['genre'].apply(clean_genre)"
   ]
  },
  {
   "cell_type": "code",
   "execution_count": 200,
   "metadata": {},
   "outputs": [],
   "source": [
    "# df_songs['genre_counter_clean'] = [len(x) for x in df_songs[\"genre_clean\"]]"
   ]
  },
  {
   "cell_type": "markdown",
   "metadata": {},
   "source": [
    "# Get main genres based on a string-matching ranking within the sub-genre dictionary"
   ]
  },
  {
   "cell_type": "code",
   "execution_count": 132,
   "metadata": {},
   "outputs": [],
   "source": [
    "# music_genre_dic[\"Rock ’n’ Roll\"]"
   ]
  },
  {
   "cell_type": "code",
   "execution_count": 131,
   "metadata": {},
   "outputs": [],
   "source": [
    "# music_genre_dic[\"Rock\"]"
   ]
  },
  {
   "cell_type": "code",
   "execution_count": 133,
   "metadata": {},
   "outputs": [],
   "source": [
    "df_songs[\"main_genre\"] = df_songs[\"genre_clean\"].apply(get_main_genre)"
   ]
  },
  {
   "cell_type": "code",
   "execution_count": 135,
   "metadata": {},
   "outputs": [],
   "source": [
    "df_temp = df_songs.copy()"
   ]
  },
  {
   "cell_type": "code",
   "execution_count": 18,
   "metadata": {},
   "outputs": [
    {
     "data": {
      "text/html": [
       "<div>\n",
       "<style scoped>\n",
       "    .dataframe tbody tr th:only-of-type {\n",
       "        vertical-align: middle;\n",
       "    }\n",
       "\n",
       "    .dataframe tbody tr th {\n",
       "        vertical-align: top;\n",
       "    }\n",
       "\n",
       "    .dataframe thead th {\n",
       "        text-align: right;\n",
       "    }\n",
       "</style>\n",
       "<table border=\"1\" class=\"dataframe\">\n",
       "  <thead>\n",
       "    <tr style=\"text-align: right;\">\n",
       "      <th></th>\n",
       "      <th>artist</th>\n",
       "      <th>genre</th>\n",
       "    </tr>\n",
       "  </thead>\n",
       "  <tbody>\n",
       "    <tr>\n",
       "      <th>0</th>\n",
       "      <td>B.B. King</td>\n",
       "      <td>[blues, blues rock, classic rock, electric blu...</td>\n",
       "    </tr>\n",
       "    <tr>\n",
       "      <th>1</th>\n",
       "      <td>Albert King</td>\n",
       "      <td>[blues, blues rock, classic rock, electric blu...</td>\n",
       "    </tr>\n",
       "  </tbody>\n",
       "</table>\n",
       "</div>"
      ],
      "text/plain": [
       "        artist                                              genre\n",
       "0    B.B. King  [blues, blues rock, classic rock, electric blu...\n",
       "1  Albert King  [blues, blues rock, classic rock, electric blu..."
      ]
     },
     "execution_count": 18,
     "metadata": {},
     "output_type": "execute_result"
    }
   ],
   "source": [
    "df_songs.iloc[0:2,2:4].head()"
   ]
  },
  {
   "cell_type": "code",
   "execution_count": 137,
   "metadata": {},
   "outputs": [
    {
     "data": {
      "image/png": "[encoded data removed]",
      "text/plain": [
       "<Figure size 1296x576 with 1 Axes>"
      ]
     },
     "metadata": {
      "needs_background": "light"
     },
     "output_type": "display_data"
    }
   ],
   "source": [
    "a4_dims = (18, 8)\n",
    "fig, ax = plt.subplots(figsize=a4_dims)\n",
    "ax = sns.countplot(ax = ax, x = \"main_genre\", data = df_songs)"
   ]
  },
  {
   "cell_type": "code",
   "execution_count": 138,
   "metadata": {
    "scrolled": true
   },
   "outputs": [
    {
     "data": {
      "text/plain": [
       "Undefined        117319\n",
       "Rock              23587\n",
       "Multiple          19443\n",
       "Metal             14952\n",
       "Electro           14344\n",
       "Pop               11449\n",
       "Latin             10975\n",
       "Country            9446\n",
       "Punk               7665\n",
       "Hip-Hop            6971\n",
       "Blues              4996\n",
       "Jazz               3698\n",
       "Reggae             3159\n",
       "Folk               3134\n",
       "Funk               2552\n",
       "Dark Music         1483\n",
       "Ska                 938\n",
       "Traditional         380\n",
       "Rock ’n’ Roll        13\n",
       "Name: main_genre, dtype: int64"
      ]
     },
     "execution_count": 138,
     "metadata": {},
     "output_type": "execute_result"
    }
   ],
   "source": [
    "df_songs[\"main_genre\"].value_counts()"
   ]
  },
  {
   "cell_type": "markdown",
   "metadata": {},
   "source": [
    "## Drop songs with undefined or multiple genres:"
   ]
  },
  {
   "cell_type": "code",
   "execution_count": 76,
   "metadata": {},
   "outputs": [
    {
     "data": {
      "text/plain": [
       "(331063, 19)"
      ]
     },
     "execution_count": 76,
     "metadata": {},
     "output_type": "execute_result"
    }
   ],
   "source": [
    "df_songs.shape"
   ]
  },
  {
   "cell_type": "code",
   "execution_count": 139,
   "metadata": {},
   "outputs": [],
   "source": [
    "df_songs = df_songs[df_songs[\"main_genre\"] != \"Undefined\"]\n",
    "df_songs = df_songs[df_songs[\"main_genre\"] != \"Multiple\"]"
   ]
  },
  {
   "cell_type": "code",
   "execution_count": 140,
   "metadata": {},
   "outputs": [
    {
     "data": {
      "text/plain": [
       "(194301, 19)"
      ]
     },
     "execution_count": 140,
     "metadata": {},
     "output_type": "execute_result"
    }
   ],
   "source": [
    "df_songs.shape"
   ]
  },
  {
   "cell_type": "code",
   "execution_count": 141,
   "metadata": {},
   "outputs": [
    {
     "data": {
      "image/png": "[encoded data removed]",
      "text/plain": [
       "<Figure size 1296x576 with 1 Axes>"
      ]
     },
     "metadata": {
      "needs_background": "light"
     },
     "output_type": "display_data"
    }
   ],
   "source": [
    "a4_dims = (18, 8)\n",
    "fig, ax = plt.subplots(figsize=a4_dims)\n",
    "ax = sns.countplot(ax = ax, x = \"main_genre\", data = df_songs)"
   ]
  },
  {
   "cell_type": "code",
   "execution_count": 145,
   "metadata": {},
   "outputs": [
    {
     "data": {
      "text/plain": [
       "18"
      ]
     },
     "execution_count": 145,
     "metadata": {},
     "output_type": "execute_result"
    }
   ],
   "source": [
    "len(df_songs[\"main_genre\"].unique())"
   ]
  },
  {
   "cell_type": "code",
   "execution_count": 143,
   "metadata": {},
   "outputs": [
    {
     "data": {
      "text/plain": [
       "Rock             23587\n",
       "Metal            14952\n",
       "Electro          14344\n",
       "Pop              11449\n",
       "Latin            10975\n",
       "Country           9446\n",
       "Punk              7665\n",
       "Hip-Hop           6971\n",
       "Blues             4996\n",
       "Jazz              3698\n",
       "Reggae            3159\n",
       "Folk              3134\n",
       "Funk              2552\n",
       "Dark Music        1483\n",
       "Ska                938\n",
       "Traditional        380\n",
       "Rock ’n’ Roll       13\n",
       "Name: main_genre, dtype: int64"
      ]
     },
     "execution_count": 143,
     "metadata": {},
     "output_type": "execute_result"
    }
   ],
   "source": [
    "df_songs[\"main_genre\"].value_counts()"
   ]
  },
  {
   "cell_type": "markdown",
   "metadata": {},
   "source": [
    "Since Rock and Rock 'n' Roll overlapp a lot (sub genres, definition etc), Rock 'n' Roll will get merged into Rock genre:"
   ]
  },
  {
   "cell_type": "code",
   "execution_count": 148,
   "metadata": {},
   "outputs": [],
   "source": [
    "df_songs[\"main_genre\"] = df_songs[\"main_genre\"].replace(\"Rock ’n’ Roll\", \"Rock\")"
   ]
  },
  {
   "cell_type": "code",
   "execution_count": 149,
   "metadata": {},
   "outputs": [
    {
     "data": {
      "text/plain": [
       "Rock           23600\n",
       "Metal          14952\n",
       "Electro        14344\n",
       "Pop            11449\n",
       "Latin          10975\n",
       "Country         9446\n",
       "Punk            7665\n",
       "Hip-Hop         6971\n",
       "Blues           4996\n",
       "Jazz            3698\n",
       "Reggae          3159\n",
       "Folk            3134\n",
       "Funk            2552\n",
       "Dark Music      1483\n",
       "Ska              938\n",
       "Traditional      380\n",
       "Name: main_genre, dtype: int64"
      ]
     },
     "execution_count": 149,
     "metadata": {},
     "output_type": "execute_result"
    }
   ],
   "source": [
    "df_songs[\"main_genre\"].value_counts()"
   ]
  },
  {
   "cell_type": "markdown",
   "metadata": {},
   "source": [
    "## Check for NaNs and empty fields"
   ]
  },
  {
   "cell_type": "code",
   "execution_count": 150,
   "metadata": {},
   "outputs": [],
   "source": [
    "df_songs = df_songs.drop(columns = [\"genre\",\"genre_clean\"])"
   ]
  },
  {
   "cell_type": "code",
   "execution_count": 151,
   "metadata": {},
   "outputs": [
    {
     "data": {
      "text/html": [
       "<div>\n",
       "<style scoped>\n",
       "    .dataframe tbody tr th:only-of-type {\n",
       "        vertical-align: middle;\n",
       "    }\n",
       "\n",
       "    .dataframe tbody tr th {\n",
       "        vertical-align: top;\n",
       "    }\n",
       "\n",
       "    .dataframe thead th {\n",
       "        text-align: right;\n",
       "    }\n",
       "</style>\n",
       "<table border=\"1\" class=\"dataframe\">\n",
       "  <thead>\n",
       "    <tr style=\"text-align: right;\">\n",
       "      <th></th>\n",
       "      <th>count</th>\n",
       "      <th>unique</th>\n",
       "      <th>top</th>\n",
       "      <th>freq</th>\n",
       "      <th>mean</th>\n",
       "      <th>std</th>\n",
       "      <th>min</th>\n",
       "      <th>25%</th>\n",
       "      <th>50%</th>\n",
       "      <th>75%</th>\n",
       "      <th>max</th>\n",
       "    </tr>\n",
       "  </thead>\n",
       "  <tbody>\n",
       "    <tr>\n",
       "      <th>track_id</th>\n",
       "      <td>194301</td>\n",
       "      <td>194301</td>\n",
       "      <td>5AETvTqEdtf9GcgBDxXJvj</td>\n",
       "      <td>1</td>\n",
       "      <td>NaN</td>\n",
       "      <td>NaN</td>\n",
       "      <td>NaN</td>\n",
       "      <td>NaN</td>\n",
       "      <td>NaN</td>\n",
       "      <td>NaN</td>\n",
       "      <td>NaN</td>\n",
       "    </tr>\n",
       "    <tr>\n",
       "      <th>name</th>\n",
       "      <td>194301</td>\n",
       "      <td>137950</td>\n",
       "      <td>Home</td>\n",
       "      <td>69</td>\n",
       "      <td>NaN</td>\n",
       "      <td>NaN</td>\n",
       "      <td>NaN</td>\n",
       "      <td>NaN</td>\n",
       "      <td>NaN</td>\n",
       "      <td>NaN</td>\n",
       "      <td>NaN</td>\n",
       "    </tr>\n",
       "    <tr>\n",
       "      <th>artist</th>\n",
       "      <td>194301</td>\n",
       "      <td>47503</td>\n",
       "      <td>Metallica</td>\n",
       "      <td>950</td>\n",
       "      <td>NaN</td>\n",
       "      <td>NaN</td>\n",
       "      <td>NaN</td>\n",
       "      <td>NaN</td>\n",
       "      <td>NaN</td>\n",
       "      <td>NaN</td>\n",
       "      <td>NaN</td>\n",
       "    </tr>\n",
       "    <tr>\n",
       "      <th>danceability</th>\n",
       "      <td>194287</td>\n",
       "      <td>NaN</td>\n",
       "      <td>NaN</td>\n",
       "      <td>NaN</td>\n",
       "      <td>0.568607</td>\n",
       "      <td>0.176728</td>\n",
       "      <td>0</td>\n",
       "      <td>0.45</td>\n",
       "      <td>0.577</td>\n",
       "      <td>0.702</td>\n",
       "      <td>0.99</td>\n",
       "    </tr>\n",
       "    <tr>\n",
       "      <th>energy</th>\n",
       "      <td>194287</td>\n",
       "      <td>NaN</td>\n",
       "      <td>NaN</td>\n",
       "      <td>NaN</td>\n",
       "      <td>0.65237</td>\n",
       "      <td>0.254114</td>\n",
       "      <td>2.02e-05</td>\n",
       "      <td>0.478</td>\n",
       "      <td>0.699</td>\n",
       "      <td>0.869</td>\n",
       "      <td>1</td>\n",
       "    </tr>\n",
       "    <tr>\n",
       "      <th>key</th>\n",
       "      <td>194287</td>\n",
       "      <td>12</td>\n",
       "      <td>7</td>\n",
       "      <td>23446</td>\n",
       "      <td>NaN</td>\n",
       "      <td>NaN</td>\n",
       "      <td>NaN</td>\n",
       "      <td>NaN</td>\n",
       "      <td>NaN</td>\n",
       "      <td>NaN</td>\n",
       "      <td>NaN</td>\n",
       "    </tr>\n",
       "    <tr>\n",
       "      <th>loudness</th>\n",
       "      <td>194287</td>\n",
       "      <td>NaN</td>\n",
       "      <td>NaN</td>\n",
       "      <td>NaN</td>\n",
       "      <td>-8.5332</td>\n",
       "      <td>4.76632</td>\n",
       "      <td>-48.131</td>\n",
       "      <td>-10.545</td>\n",
       "      <td>-7.333</td>\n",
       "      <td>-5.245</td>\n",
       "      <td>3.744</td>\n",
       "    </tr>\n",
       "    <tr>\n",
       "      <th>mode</th>\n",
       "      <td>194287</td>\n",
       "      <td>2</td>\n",
       "      <td>1</td>\n",
       "      <td>121644</td>\n",
       "      <td>NaN</td>\n",
       "      <td>NaN</td>\n",
       "      <td>NaN</td>\n",
       "      <td>NaN</td>\n",
       "      <td>NaN</td>\n",
       "      <td>NaN</td>\n",
       "      <td>NaN</td>\n",
       "    </tr>\n",
       "    <tr>\n",
       "      <th>speechiness</th>\n",
       "      <td>194287</td>\n",
       "      <td>NaN</td>\n",
       "      <td>NaN</td>\n",
       "      <td>NaN</td>\n",
       "      <td>0.0800733</td>\n",
       "      <td>0.0787466</td>\n",
       "      <td>0</td>\n",
       "      <td>0.0366</td>\n",
       "      <td>0.0502</td>\n",
       "      <td>0.0864</td>\n",
       "      <td>0.949</td>\n",
       "    </tr>\n",
       "    <tr>\n",
       "      <th>acousticness</th>\n",
       "      <td>194287</td>\n",
       "      <td>NaN</td>\n",
       "      <td>NaN</td>\n",
       "      <td>NaN</td>\n",
       "      <td>0.270745</td>\n",
       "      <td>0.322772</td>\n",
       "      <td>0</td>\n",
       "      <td>0.00712</td>\n",
       "      <td>0.106</td>\n",
       "      <td>0.488</td>\n",
       "      <td>0.996</td>\n",
       "    </tr>\n",
       "    <tr>\n",
       "      <th>instrumentalness</th>\n",
       "      <td>194287</td>\n",
       "      <td>NaN</td>\n",
       "      <td>NaN</td>\n",
       "      <td>NaN</td>\n",
       "      <td>0.205711</td>\n",
       "      <td>0.337503</td>\n",
       "      <td>0</td>\n",
       "      <td>1.32e-06</td>\n",
       "      <td>0.000778</td>\n",
       "      <td>0.321</td>\n",
       "      <td>0.998</td>\n",
       "    </tr>\n",
       "    <tr>\n",
       "      <th>liveness</th>\n",
       "      <td>194287</td>\n",
       "      <td>NaN</td>\n",
       "      <td>NaN</td>\n",
       "      <td>NaN</td>\n",
       "      <td>0.198355</td>\n",
       "      <td>0.171447</td>\n",
       "      <td>0</td>\n",
       "      <td>0.095</td>\n",
       "      <td>0.127</td>\n",
       "      <td>0.255</td>\n",
       "      <td>1</td>\n",
       "    </tr>\n",
       "    <tr>\n",
       "      <th>valence</th>\n",
       "      <td>194287</td>\n",
       "      <td>NaN</td>\n",
       "      <td>NaN</td>\n",
       "      <td>NaN</td>\n",
       "      <td>0.504619</td>\n",
       "      <td>0.264117</td>\n",
       "      <td>0</td>\n",
       "      <td>0.287</td>\n",
       "      <td>0.502</td>\n",
       "      <td>0.724</td>\n",
       "      <td>1</td>\n",
       "    </tr>\n",
       "    <tr>\n",
       "      <th>tempo</th>\n",
       "      <td>194287</td>\n",
       "      <td>NaN</td>\n",
       "      <td>NaN</td>\n",
       "      <td>NaN</td>\n",
       "      <td>122.729</td>\n",
       "      <td>29.6605</td>\n",
       "      <td>0</td>\n",
       "      <td>99.905</td>\n",
       "      <td>121.658</td>\n",
       "      <td>140.074</td>\n",
       "      <td>248.004</td>\n",
       "    </tr>\n",
       "    <tr>\n",
       "      <th>duration_ms</th>\n",
       "      <td>194287</td>\n",
       "      <td>75454</td>\n",
       "      <td>192000</td>\n",
       "      <td>137</td>\n",
       "      <td>NaN</td>\n",
       "      <td>NaN</td>\n",
       "      <td>NaN</td>\n",
       "      <td>NaN</td>\n",
       "      <td>NaN</td>\n",
       "      <td>NaN</td>\n",
       "      <td>NaN</td>\n",
       "    </tr>\n",
       "    <tr>\n",
       "      <th>time_signature</th>\n",
       "      <td>194287</td>\n",
       "      <td>5</td>\n",
       "      <td>4</td>\n",
       "      <td>176171</td>\n",
       "      <td>NaN</td>\n",
       "      <td>NaN</td>\n",
       "      <td>NaN</td>\n",
       "      <td>NaN</td>\n",
       "      <td>NaN</td>\n",
       "      <td>NaN</td>\n",
       "      <td>NaN</td>\n",
       "    </tr>\n",
       "    <tr>\n",
       "      <th>main_genre</th>\n",
       "      <td>119742</td>\n",
       "      <td>16</td>\n",
       "      <td>Rock</td>\n",
       "      <td>23600</td>\n",
       "      <td>NaN</td>\n",
       "      <td>NaN</td>\n",
       "      <td>NaN</td>\n",
       "      <td>NaN</td>\n",
       "      <td>NaN</td>\n",
       "      <td>NaN</td>\n",
       "      <td>NaN</td>\n",
       "    </tr>\n",
       "  </tbody>\n",
       "</table>\n",
       "</div>"
      ],
      "text/plain": [
       "                   count  unique                     top    freq       mean  \\\n",
       "track_id          194301  194301  5AETvTqEdtf9GcgBDxXJvj       1        NaN   \n",
       "name              194301  137950                    Home      69        NaN   \n",
       "artist            194301   47503               Metallica     950        NaN   \n",
       "danceability      194287     NaN                     NaN     NaN   0.568607   \n",
       "energy            194287     NaN                     NaN     NaN    0.65237   \n",
       "key               194287      12                       7   23446        NaN   \n",
       "loudness          194287     NaN                     NaN     NaN    -8.5332   \n",
       "mode              194287       2                       1  121644        NaN   \n",
       "speechiness       194287     NaN                     NaN     NaN  0.0800733   \n",
       "acousticness      194287     NaN                     NaN     NaN   0.270745   \n",
       "instrumentalness  194287     NaN                     NaN     NaN   0.205711   \n",
       "liveness          194287     NaN                     NaN     NaN   0.198355   \n",
       "valence           194287     NaN                     NaN     NaN   0.504619   \n",
       "tempo             194287     NaN                     NaN     NaN    122.729   \n",
       "duration_ms       194287   75454                  192000     137        NaN   \n",
       "time_signature    194287       5                       4  176171        NaN   \n",
       "main_genre        119742      16                    Rock   23600        NaN   \n",
       "\n",
       "                        std       min       25%       50%      75%      max  \n",
       "track_id                NaN       NaN       NaN       NaN      NaN      NaN  \n",
       "name                    NaN       NaN       NaN       NaN      NaN      NaN  \n",
       "artist                  NaN       NaN       NaN       NaN      NaN      NaN  \n",
       "danceability       0.176728         0      0.45     0.577    0.702     0.99  \n",
       "energy             0.254114  2.02e-05     0.478     0.699    0.869        1  \n",
       "key                     NaN       NaN       NaN       NaN      NaN      NaN  \n",
       "loudness            4.76632   -48.131   -10.545    -7.333   -5.245    3.744  \n",
       "mode                    NaN       NaN       NaN       NaN      NaN      NaN  \n",
       "speechiness       0.0787466         0    0.0366    0.0502   0.0864    0.949  \n",
       "acousticness       0.322772         0   0.00712     0.106    0.488    0.996  \n",
       "instrumentalness   0.337503         0  1.32e-06  0.000778    0.321    0.998  \n",
       "liveness           0.171447         0     0.095     0.127    0.255        1  \n",
       "valence            0.264117         0     0.287     0.502    0.724        1  \n",
       "tempo               29.6605         0    99.905   121.658  140.074  248.004  \n",
       "duration_ms             NaN       NaN       NaN       NaN      NaN      NaN  \n",
       "time_signature          NaN       NaN       NaN       NaN      NaN      NaN  \n",
       "main_genre              NaN       NaN       NaN       NaN      NaN      NaN  "
      ]
     },
     "execution_count": 151,
     "metadata": {},
     "output_type": "execute_result"
    }
   ],
   "source": [
    "df_songs.describe(include = \"all\").T"
   ]
  },
  {
   "cell_type": "code",
   "execution_count": 152,
   "metadata": {},
   "outputs": [
    {
     "data": {
      "text/plain": [
       "track_id             object\n",
       "name                 object\n",
       "artist               object\n",
       "danceability        float64\n",
       "energy              float64\n",
       "key                  object\n",
       "loudness            float64\n",
       "mode                 object\n",
       "speechiness         float64\n",
       "acousticness        float64\n",
       "instrumentalness    float64\n",
       "liveness            float64\n",
       "valence             float64\n",
       "tempo               float64\n",
       "duration_ms          object\n",
       "time_signature       object\n",
       "main_genre           object\n",
       "dtype: object"
      ]
     },
     "execution_count": 152,
     "metadata": {},
     "output_type": "execute_result"
    }
   ],
   "source": [
    "df_songs.dtypes"
   ]
  },
  {
   "cell_type": "markdown",
   "metadata": {},
   "source": [
    "##Danceability: \n",
    "Danceability describes how suitable a track is for dancing based on a combination of musical elements including tempo, rhythm stability, beat strength, and overall regularity. A value of 0.0 is least danceable and 1.0 is most danceable.\n",
    "    \n",
    "##Acousticness: \n",
    "A measure from 0.0 to 1.0 of whether the track is acoustic.\n",
    "    \n",
    "##Energy: \n",
    "Energy is a measure from 0.0 to 1.0 and represents a perceptual measure of intensity and activity. Typically, energetic tracks feel fast, loud, and noisy.\n",
    "\n",
    "##Instrumentalness: \n",
    "Predicts whether a track contains no vocals. The closer the instrumentalness value is to 1.0, the greater likelihood the track contains no vocal content.\n",
    "\n",
    "##Liveness: \n",
    "Detects the presence of an audience in the recording. Higher liveness values represent an increased probability that the track was performed live.\n",
    "\n",
    "##Loudness: \n",
    "The overall loudness of a track in decibels (dB). Loudness values are averaged across the entire track. Values typical range between -60 and 0 db.\n",
    "  \n",
    "##Speechiness: \n",
    "Speechiness detects the presence of spoken words in a track. The more exclusively speech-like the recording (e.g. talk show, audio book, poetry), the closer to 1.0 the attribute value.\n",
    "\n",
    "##Tempo: \n",
    "The overall estimated tempo of a track in beats per minute (BPM). In musical terminology, tempo is the speed or pace of a given piece and derives directly from the average beat duration.\n",
    "\n",
    "##Valence: \n",
    "A measure from 0.0 to 1.0 describing the musical positiveness conveyed by a track. Tracks with high valence sound more positive (e.g. happy, cheerful, euphoric), while tracks with low valence sound more negative (e.g. sad, depressed, angry)."
   ]
  },
  {
   "cell_type": "code",
   "execution_count": 153,
   "metadata": {},
   "outputs": [
    {
     "data": {
      "text/plain": [
       "array([1, 0, nan], dtype=object)"
      ]
     },
     "execution_count": 153,
     "metadata": {},
     "output_type": "execute_result"
    }
   ],
   "source": [
    "df_songs[\"mode\"].unique()"
   ]
  },
  {
   "cell_type": "code",
   "execution_count": 154,
   "metadata": {},
   "outputs": [
    {
     "data": {
      "text/plain": [
       "array([0, 11, 2, 4, 9, 3, 5, 1, 7, 10, 8, 6, nan], dtype=object)"
      ]
     },
     "execution_count": 154,
     "metadata": {},
     "output_type": "execute_result"
    }
   ],
   "source": [
    "df_songs[\"key\"].unique()"
   ]
  },
  {
   "cell_type": "code",
   "execution_count": 155,
   "metadata": {},
   "outputs": [
    {
     "data": {
      "text/plain": [
       "array([4, 3, 1, 5, 0, nan], dtype=object)"
      ]
     },
     "execution_count": 155,
     "metadata": {},
     "output_type": "execute_result"
    }
   ],
   "source": [
    "df_songs[\"time_signature\"].unique()"
   ]
  },
  {
   "cell_type": "markdown",
   "metadata": {},
   "source": [
    "Since the features \"mode\", \"key\", \"time_signature\" seem to be categorical, they will be kept as object type"
   ]
  },
  {
   "cell_type": "code",
   "execution_count": 156,
   "metadata": {},
   "outputs": [
    {
     "data": {
      "text/plain": [
       "<AxesSubplot:xlabel='duration_ms', ylabel='Count'>"
      ]
     },
     "execution_count": 156,
     "metadata": {},
     "output_type": "execute_result"
    },
    {
     "data": {
      "image/png": "[encoded data removed]",
      "text/plain": [
       "<Figure size 432x288 with 1 Axes>"
      ]
     },
     "metadata": {
      "needs_background": "light"
     },
     "output_type": "display_data"
    }
   ],
   "source": [
    "sns.histplot(df_songs.duration_ms, bins=100)"
   ]
  },
  {
   "cell_type": "code",
   "execution_count": 157,
   "metadata": {},
   "outputs": [
    {
     "data": {
      "text/plain": [
       "<AxesSubplot:xlabel='instrumentalness', ylabel='Count'>"
      ]
     },
     "execution_count": 157,
     "metadata": {},
     "output_type": "execute_result"
    },
    {
     "data": {
      "image/png": "[encoded data removed]",
      "text/plain": [
       "<Figure size 432x288 with 1 Axes>"
      ]
     },
     "metadata": {
      "needs_background": "light"
     },
     "output_type": "display_data"
    }
   ],
   "source": [
    "sns.histplot(df_songs.instrumentalness, bins=100)"
   ]
  },
  {
   "cell_type": "markdown",
   "metadata": {},
   "source": [
    "\"Instrumentalness\" and \"duration_ms\" will be transformed to numeric type:"
   ]
  },
  {
   "cell_type": "code",
   "execution_count": 158,
   "metadata": {},
   "outputs": [],
   "source": [
    "df_songs[\"instrumentalness\"] = pd.to_numeric(df_songs[\"instrumentalness\"])\n",
    "df_songs[\"duration_ms\"] = pd.to_numeric(df_songs[\"duration_ms\"])"
   ]
  },
  {
   "cell_type": "code",
   "execution_count": 159,
   "metadata": {},
   "outputs": [
    {
     "data": {
      "text/plain": [
       "track_id             object\n",
       "name                 object\n",
       "artist               object\n",
       "danceability        float64\n",
       "energy              float64\n",
       "key                  object\n",
       "loudness            float64\n",
       "mode                 object\n",
       "speechiness         float64\n",
       "acousticness        float64\n",
       "instrumentalness    float64\n",
       "liveness            float64\n",
       "valence             float64\n",
       "tempo               float64\n",
       "duration_ms         float64\n",
       "time_signature       object\n",
       "main_genre           object\n",
       "dtype: object"
      ]
     },
     "execution_count": 159,
     "metadata": {},
     "output_type": "execute_result"
    }
   ],
   "source": [
    "df_songs.dtypes"
   ]
  },
  {
   "cell_type": "code",
   "execution_count": 160,
   "metadata": {
    "scrolled": true
   },
   "outputs": [
    {
     "data": {
      "text/plain": [
       "track_id                0\n",
       "name                    0\n",
       "artist                  0\n",
       "danceability           14\n",
       "energy                 14\n",
       "key                    14\n",
       "loudness               14\n",
       "mode                   14\n",
       "speechiness            14\n",
       "acousticness           14\n",
       "instrumentalness       14\n",
       "liveness               14\n",
       "valence                14\n",
       "tempo                  14\n",
       "duration_ms            14\n",
       "time_signature         14\n",
       "main_genre          74559\n",
       "dtype: int64"
      ]
     },
     "execution_count": 160,
     "metadata": {},
     "output_type": "execute_result"
    }
   ],
   "source": [
    "df_songs.isna().sum()"
   ]
  },
  {
   "cell_type": "code",
   "execution_count": 161,
   "metadata": {},
   "outputs": [
    {
     "data": {
      "text/html": [
       "<div>\n",
       "<style scoped>\n",
       "    .dataframe tbody tr th:only-of-type {\n",
       "        vertical-align: middle;\n",
       "    }\n",
       "\n",
       "    .dataframe tbody tr th {\n",
       "        vertical-align: top;\n",
       "    }\n",
       "\n",
       "    .dataframe thead th {\n",
       "        text-align: right;\n",
       "    }\n",
       "</style>\n",
       "<table border=\"1\" class=\"dataframe\">\n",
       "  <thead>\n",
       "    <tr style=\"text-align: right;\">\n",
       "      <th></th>\n",
       "      <th>track_id</th>\n",
       "      <th>name</th>\n",
       "      <th>artist</th>\n",
       "      <th>danceability</th>\n",
       "      <th>energy</th>\n",
       "      <th>key</th>\n",
       "      <th>loudness</th>\n",
       "      <th>mode</th>\n",
       "      <th>speechiness</th>\n",
       "      <th>acousticness</th>\n",
       "      <th>instrumentalness</th>\n",
       "      <th>liveness</th>\n",
       "      <th>valence</th>\n",
       "      <th>tempo</th>\n",
       "      <th>duration_ms</th>\n",
       "      <th>time_signature</th>\n",
       "      <th>main_genre</th>\n",
       "    </tr>\n",
       "  </thead>\n",
       "  <tbody>\n",
       "    <tr>\n",
       "      <th>68</th>\n",
       "      <td>4fREYVupHFsPepnZeZrKI5</td>\n",
       "      <td>My Turn</td>\n",
       "      <td>Alyssa Trahan</td>\n",
       "      <td>NaN</td>\n",
       "      <td>NaN</td>\n",
       "      <td>NaN</td>\n",
       "      <td>NaN</td>\n",
       "      <td>NaN</td>\n",
       "      <td>NaN</td>\n",
       "      <td>NaN</td>\n",
       "      <td>NaN</td>\n",
       "      <td>NaN</td>\n",
       "      <td>NaN</td>\n",
       "      <td>NaN</td>\n",
       "      <td>NaN</td>\n",
       "      <td>NaN</td>\n",
       "      <td>NaN</td>\n",
       "    </tr>\n",
       "    <tr>\n",
       "      <th>88</th>\n",
       "      <td>4LIfjUZIUcPfmr8FQuYW9L</td>\n",
       "      <td>Progressive Goa 2018 Top 100 Hits (2 Hr Psyche...</td>\n",
       "      <td>Doctor Spook</td>\n",
       "      <td>NaN</td>\n",
       "      <td>NaN</td>\n",
       "      <td>NaN</td>\n",
       "      <td>NaN</td>\n",
       "      <td>NaN</td>\n",
       "      <td>NaN</td>\n",
       "      <td>NaN</td>\n",
       "      <td>NaN</td>\n",
       "      <td>NaN</td>\n",
       "      <td>NaN</td>\n",
       "      <td>NaN</td>\n",
       "      <td>NaN</td>\n",
       "      <td>NaN</td>\n",
       "      <td>NaN</td>\n",
       "    </tr>\n",
       "    <tr>\n",
       "      <th>2</th>\n",
       "      <td>1balIFsa2nXaQsaCW0Mlyq</td>\n",
       "      <td>Goa Culture, Vol. 28 - In the Mix</td>\n",
       "      <td>Various Artists</td>\n",
       "      <td>NaN</td>\n",
       "      <td>NaN</td>\n",
       "      <td>NaN</td>\n",
       "      <td>NaN</td>\n",
       "      <td>NaN</td>\n",
       "      <td>NaN</td>\n",
       "      <td>NaN</td>\n",
       "      <td>NaN</td>\n",
       "      <td>NaN</td>\n",
       "      <td>NaN</td>\n",
       "      <td>NaN</td>\n",
       "      <td>NaN</td>\n",
       "      <td>NaN</td>\n",
       "      <td>NaN</td>\n",
       "    </tr>\n",
       "    <tr>\n",
       "      <th>47</th>\n",
       "      <td>1OegbevPjnz3BBlyzkBT4K</td>\n",
       "      <td>Mercy</td>\n",
       "      <td>Bossfight</td>\n",
       "      <td>NaN</td>\n",
       "      <td>NaN</td>\n",
       "      <td>NaN</td>\n",
       "      <td>NaN</td>\n",
       "      <td>NaN</td>\n",
       "      <td>NaN</td>\n",
       "      <td>NaN</td>\n",
       "      <td>NaN</td>\n",
       "      <td>NaN</td>\n",
       "      <td>NaN</td>\n",
       "      <td>NaN</td>\n",
       "      <td>NaN</td>\n",
       "      <td>NaN</td>\n",
       "      <td>Electro</td>\n",
       "    </tr>\n",
       "    <tr>\n",
       "      <th>51</th>\n",
       "      <td>0M53v8Lw9remCNDXkwcLuN</td>\n",
       "      <td>A Gentle Day</td>\n",
       "      <td>Annie Locke</td>\n",
       "      <td>NaN</td>\n",
       "      <td>NaN</td>\n",
       "      <td>NaN</td>\n",
       "      <td>NaN</td>\n",
       "      <td>NaN</td>\n",
       "      <td>NaN</td>\n",
       "      <td>NaN</td>\n",
       "      <td>NaN</td>\n",
       "      <td>NaN</td>\n",
       "      <td>NaN</td>\n",
       "      <td>NaN</td>\n",
       "      <td>NaN</td>\n",
       "      <td>NaN</td>\n",
       "      <td>NaN</td>\n",
       "    </tr>\n",
       "    <tr>\n",
       "      <th>50</th>\n",
       "      <td>59o6ojGNGJOYiVJSzC6Lsa</td>\n",
       "      <td>Memories (feat. Kid Cudi) - 2021 Remix</td>\n",
       "      <td>David Guetta</td>\n",
       "      <td>NaN</td>\n",
       "      <td>NaN</td>\n",
       "      <td>NaN</td>\n",
       "      <td>NaN</td>\n",
       "      <td>NaN</td>\n",
       "      <td>NaN</td>\n",
       "      <td>NaN</td>\n",
       "      <td>NaN</td>\n",
       "      <td>NaN</td>\n",
       "      <td>NaN</td>\n",
       "      <td>NaN</td>\n",
       "      <td>NaN</td>\n",
       "      <td>NaN</td>\n",
       "      <td>Pop</td>\n",
       "    </tr>\n",
       "    <tr>\n",
       "      <th>17</th>\n",
       "      <td>6f4dPRxm7HOadw5v5CE2Ug</td>\n",
       "      <td>Spanglish</td>\n",
       "      <td>Logroz</td>\n",
       "      <td>NaN</td>\n",
       "      <td>NaN</td>\n",
       "      <td>NaN</td>\n",
       "      <td>NaN</td>\n",
       "      <td>NaN</td>\n",
       "      <td>NaN</td>\n",
       "      <td>NaN</td>\n",
       "      <td>NaN</td>\n",
       "      <td>NaN</td>\n",
       "      <td>NaN</td>\n",
       "      <td>NaN</td>\n",
       "      <td>NaN</td>\n",
       "      <td>NaN</td>\n",
       "      <td>NaN</td>\n",
       "    </tr>\n",
       "    <tr>\n",
       "      <th>64</th>\n",
       "      <td>5auNDaHLvMKhq4OTSSSVkB</td>\n",
       "      <td>Yellow Coat</td>\n",
       "      <td>Friends &amp; I</td>\n",
       "      <td>NaN</td>\n",
       "      <td>NaN</td>\n",
       "      <td>NaN</td>\n",
       "      <td>NaN</td>\n",
       "      <td>NaN</td>\n",
       "      <td>NaN</td>\n",
       "      <td>NaN</td>\n",
       "      <td>NaN</td>\n",
       "      <td>NaN</td>\n",
       "      <td>NaN</td>\n",
       "      <td>NaN</td>\n",
       "      <td>NaN</td>\n",
       "      <td>NaN</td>\n",
       "      <td>NaN</td>\n",
       "    </tr>\n",
       "    <tr>\n",
       "      <th>16</th>\n",
       "      <td>2Md0TACRcG7RY2MIOA3S9o</td>\n",
       "      <td>Amanecer</td>\n",
       "      <td>Manuva</td>\n",
       "      <td>NaN</td>\n",
       "      <td>NaN</td>\n",
       "      <td>NaN</td>\n",
       "      <td>NaN</td>\n",
       "      <td>NaN</td>\n",
       "      <td>NaN</td>\n",
       "      <td>NaN</td>\n",
       "      <td>NaN</td>\n",
       "      <td>NaN</td>\n",
       "      <td>NaN</td>\n",
       "      <td>NaN</td>\n",
       "      <td>NaN</td>\n",
       "      <td>NaN</td>\n",
       "      <td>NaN</td>\n",
       "    </tr>\n",
       "    <tr>\n",
       "      <th>2</th>\n",
       "      <td>1K3qfNiMOzI5cbILMuWnRN</td>\n",
       "      <td>Pajama Party (Cypher1)</td>\n",
       "      <td>1096 Gang</td>\n",
       "      <td>NaN</td>\n",
       "      <td>NaN</td>\n",
       "      <td>NaN</td>\n",
       "      <td>NaN</td>\n",
       "      <td>NaN</td>\n",
       "      <td>NaN</td>\n",
       "      <td>NaN</td>\n",
       "      <td>NaN</td>\n",
       "      <td>NaN</td>\n",
       "      <td>NaN</td>\n",
       "      <td>NaN</td>\n",
       "      <td>NaN</td>\n",
       "      <td>NaN</td>\n",
       "      <td>NaN</td>\n",
       "    </tr>\n",
       "    <tr>\n",
       "      <th>58</th>\n",
       "      <td>4GiFwMvTXsmA7JWqqnjNCD</td>\n",
       "      <td>Yesterdays</td>\n",
       "      <td>Lee Barrington</td>\n",
       "      <td>NaN</td>\n",
       "      <td>NaN</td>\n",
       "      <td>NaN</td>\n",
       "      <td>NaN</td>\n",
       "      <td>NaN</td>\n",
       "      <td>NaN</td>\n",
       "      <td>NaN</td>\n",
       "      <td>NaN</td>\n",
       "      <td>NaN</td>\n",
       "      <td>NaN</td>\n",
       "      <td>NaN</td>\n",
       "      <td>NaN</td>\n",
       "      <td>NaN</td>\n",
       "      <td>NaN</td>\n",
       "    </tr>\n",
       "    <tr>\n",
       "      <th>17</th>\n",
       "      <td>6zQhJcyuZGX7ADNMZF1VHL</td>\n",
       "      <td>14 De Febrero</td>\n",
       "      <td>Feid</td>\n",
       "      <td>NaN</td>\n",
       "      <td>NaN</td>\n",
       "      <td>NaN</td>\n",
       "      <td>NaN</td>\n",
       "      <td>NaN</td>\n",
       "      <td>NaN</td>\n",
       "      <td>NaN</td>\n",
       "      <td>NaN</td>\n",
       "      <td>NaN</td>\n",
       "      <td>NaN</td>\n",
       "      <td>NaN</td>\n",
       "      <td>NaN</td>\n",
       "      <td>NaN</td>\n",
       "      <td>Latin</td>\n",
       "    </tr>\n",
       "    <tr>\n",
       "      <th>79</th>\n",
       "      <td>4uqmcATBKbBKN5Tec5I4T1</td>\n",
       "      <td>Solamente una Vez</td>\n",
       "      <td>César Avila</td>\n",
       "      <td>NaN</td>\n",
       "      <td>NaN</td>\n",
       "      <td>NaN</td>\n",
       "      <td>NaN</td>\n",
       "      <td>NaN</td>\n",
       "      <td>NaN</td>\n",
       "      <td>NaN</td>\n",
       "      <td>NaN</td>\n",
       "      <td>NaN</td>\n",
       "      <td>NaN</td>\n",
       "      <td>NaN</td>\n",
       "      <td>NaN</td>\n",
       "      <td>NaN</td>\n",
       "      <td>NaN</td>\n",
       "    </tr>\n",
       "    <tr>\n",
       "      <th>58</th>\n",
       "      <td>0yZGNoza8BKSsML4RevQ8L</td>\n",
       "      <td>Simulation</td>\n",
       "      <td>K3ATH</td>\n",
       "      <td>NaN</td>\n",
       "      <td>NaN</td>\n",
       "      <td>NaN</td>\n",
       "      <td>NaN</td>\n",
       "      <td>NaN</td>\n",
       "      <td>NaN</td>\n",
       "      <td>NaN</td>\n",
       "      <td>NaN</td>\n",
       "      <td>NaN</td>\n",
       "      <td>NaN</td>\n",
       "      <td>NaN</td>\n",
       "      <td>NaN</td>\n",
       "      <td>NaN</td>\n",
       "      <td>NaN</td>\n",
       "    </tr>\n",
       "  </tbody>\n",
       "</table>\n",
       "</div>"
      ],
      "text/plain": [
       "                  track_id                                               name  \\\n",
       "68  4fREYVupHFsPepnZeZrKI5                                            My Turn   \n",
       "88  4LIfjUZIUcPfmr8FQuYW9L  Progressive Goa 2018 Top 100 Hits (2 Hr Psyche...   \n",
       "2   1balIFsa2nXaQsaCW0Mlyq                  Goa Culture, Vol. 28 - In the Mix   \n",
       "47  1OegbevPjnz3BBlyzkBT4K                                              Mercy   \n",
       "51  0M53v8Lw9remCNDXkwcLuN                                       A Gentle Day   \n",
       "50  59o6ojGNGJOYiVJSzC6Lsa             Memories (feat. Kid Cudi) - 2021 Remix   \n",
       "17  6f4dPRxm7HOadw5v5CE2Ug                                          Spanglish   \n",
       "64  5auNDaHLvMKhq4OTSSSVkB                                        Yellow Coat   \n",
       "16  2Md0TACRcG7RY2MIOA3S9o                                           Amanecer   \n",
       "2   1K3qfNiMOzI5cbILMuWnRN                             Pajama Party (Cypher1)   \n",
       "58  4GiFwMvTXsmA7JWqqnjNCD                                         Yesterdays   \n",
       "17  6zQhJcyuZGX7ADNMZF1VHL                                      14 De Febrero   \n",
       "79  4uqmcATBKbBKN5Tec5I4T1                                  Solamente una Vez   \n",
       "58  0yZGNoza8BKSsML4RevQ8L                                         Simulation   \n",
       "\n",
       "             artist  danceability  energy  key  loudness mode  speechiness  \\\n",
       "68    Alyssa Trahan           NaN     NaN  NaN       NaN  NaN          NaN   \n",
       "88     Doctor Spook           NaN     NaN  NaN       NaN  NaN          NaN   \n",
       "2   Various Artists           NaN     NaN  NaN       NaN  NaN          NaN   \n",
       "47        Bossfight           NaN     NaN  NaN       NaN  NaN          NaN   \n",
       "51      Annie Locke           NaN     NaN  NaN       NaN  NaN          NaN   \n",
       "50     David Guetta           NaN     NaN  NaN       NaN  NaN          NaN   \n",
       "17           Logroz           NaN     NaN  NaN       NaN  NaN          NaN   \n",
       "64      Friends & I           NaN     NaN  NaN       NaN  NaN          NaN   \n",
       "16           Manuva           NaN     NaN  NaN       NaN  NaN          NaN   \n",
       "2         1096 Gang           NaN     NaN  NaN       NaN  NaN          NaN   \n",
       "58   Lee Barrington           NaN     NaN  NaN       NaN  NaN          NaN   \n",
       "17             Feid           NaN     NaN  NaN       NaN  NaN          NaN   \n",
       "79      César Avila           NaN     NaN  NaN       NaN  NaN          NaN   \n",
       "58            K3ATH           NaN     NaN  NaN       NaN  NaN          NaN   \n",
       "\n",
       "    acousticness  instrumentalness  liveness  valence  tempo  duration_ms  \\\n",
       "68           NaN               NaN       NaN      NaN    NaN          NaN   \n",
       "88           NaN               NaN       NaN      NaN    NaN          NaN   \n",
       "2            NaN               NaN       NaN      NaN    NaN          NaN   \n",
       "47           NaN               NaN       NaN      NaN    NaN          NaN   \n",
       "51           NaN               NaN       NaN      NaN    NaN          NaN   \n",
       "50           NaN               NaN       NaN      NaN    NaN          NaN   \n",
       "17           NaN               NaN       NaN      NaN    NaN          NaN   \n",
       "64           NaN               NaN       NaN      NaN    NaN          NaN   \n",
       "16           NaN               NaN       NaN      NaN    NaN          NaN   \n",
       "2            NaN               NaN       NaN      NaN    NaN          NaN   \n",
       "58           NaN               NaN       NaN      NaN    NaN          NaN   \n",
       "17           NaN               NaN       NaN      NaN    NaN          NaN   \n",
       "79           NaN               NaN       NaN      NaN    NaN          NaN   \n",
       "58           NaN               NaN       NaN      NaN    NaN          NaN   \n",
       "\n",
       "   time_signature main_genre  \n",
       "68            NaN        NaN  \n",
       "88            NaN        NaN  \n",
       "2             NaN        NaN  \n",
       "47            NaN    Electro  \n",
       "51            NaN        NaN  \n",
       "50            NaN        Pop  \n",
       "17            NaN        NaN  \n",
       "64            NaN        NaN  \n",
       "16            NaN        NaN  \n",
       "2             NaN        NaN  \n",
       "58            NaN        NaN  \n",
       "17            NaN      Latin  \n",
       "79            NaN        NaN  \n",
       "58            NaN        NaN  "
      ]
     },
     "execution_count": 161,
     "metadata": {},
     "output_type": "execute_result"
    }
   ],
   "source": [
    "df_songs[df_songs['key'].isna()]"
   ]
  },
  {
   "cell_type": "markdown",
   "metadata": {},
   "source": [
    "Drop NaNs:"
   ]
  },
  {
   "cell_type": "code",
   "execution_count": 162,
   "metadata": {},
   "outputs": [
    {
     "name": "stdout",
     "output_type": "stream",
     "text": [
      "194301\n",
      "119739\n"
     ]
    }
   ],
   "source": [
    "print(df_songs.shape[0])\n",
    "df_songs = df_songs.dropna()\n",
    "print(df_songs.shape[0])"
   ]
  },
  {
   "cell_type": "code",
   "execution_count": 163,
   "metadata": {},
   "outputs": [
    {
     "data": {
      "text/plain": [
       "track_id            0\n",
       "name                0\n",
       "artist              0\n",
       "danceability        0\n",
       "energy              0\n",
       "key                 0\n",
       "loudness            0\n",
       "mode                0\n",
       "speechiness         0\n",
       "acousticness        0\n",
       "instrumentalness    0\n",
       "liveness            0\n",
       "valence             0\n",
       "tempo               0\n",
       "duration_ms         0\n",
       "time_signature      0\n",
       "main_genre          0\n",
       "dtype: int64"
      ]
     },
     "execution_count": 163,
     "metadata": {},
     "output_type": "execute_result"
    }
   ],
   "source": [
    "df_songs.isna().sum()"
   ]
  },
  {
   "cell_type": "markdown",
   "metadata": {},
   "source": [
    "## Check for duplicates:"
   ]
  },
  {
   "cell_type": "code",
   "execution_count": 164,
   "metadata": {},
   "outputs": [
    {
     "data": {
      "text/plain": [
       "0"
      ]
     },
     "execution_count": 164,
     "metadata": {},
     "output_type": "execute_result"
    }
   ],
   "source": [
    "sum(df_songs.duplicated())"
   ]
  },
  {
   "cell_type": "markdown",
   "metadata": {},
   "source": [
    "## As a first approach, I'm gonna drop \"track_id\", \"name\" and \"artist\", since i wanna predict the genre based on the audio features. Though when using NLP the trackname and Author name could be helpfull"
   ]
  },
  {
   "cell_type": "code",
   "execution_count": 165,
   "metadata": {},
   "outputs": [],
   "source": [
    "df_songs = df_songs.reset_index(drop=True)"
   ]
  },
  {
   "cell_type": "code",
   "execution_count": 166,
   "metadata": {},
   "outputs": [],
   "source": [
    "df_songs = df_songs.drop(columns = [\"track_id\",\"name\",\"artist\"])"
   ]
  },
  {
   "cell_type": "code",
   "execution_count": 167,
   "metadata": {},
   "outputs": [
    {
     "data": {
      "text/html": [
       "<div>\n",
       "<style scoped>\n",
       "    .dataframe tbody tr th:only-of-type {\n",
       "        vertical-align: middle;\n",
       "    }\n",
       "\n",
       "    .dataframe tbody tr th {\n",
       "        vertical-align: top;\n",
       "    }\n",
       "\n",
       "    .dataframe thead th {\n",
       "        text-align: right;\n",
       "    }\n",
       "</style>\n",
       "<table border=\"1\" class=\"dataframe\">\n",
       "  <thead>\n",
       "    <tr style=\"text-align: right;\">\n",
       "      <th></th>\n",
       "      <th>danceability</th>\n",
       "      <th>energy</th>\n",
       "      <th>key</th>\n",
       "      <th>loudness</th>\n",
       "      <th>mode</th>\n",
       "      <th>speechiness</th>\n",
       "      <th>acousticness</th>\n",
       "      <th>instrumentalness</th>\n",
       "      <th>liveness</th>\n",
       "      <th>valence</th>\n",
       "      <th>tempo</th>\n",
       "      <th>duration_ms</th>\n",
       "      <th>time_signature</th>\n",
       "      <th>main_genre</th>\n",
       "    </tr>\n",
       "  </thead>\n",
       "  <tbody>\n",
       "    <tr>\n",
       "      <th>0</th>\n",
       "      <td>0.872</td>\n",
       "      <td>0.384</td>\n",
       "      <td>0</td>\n",
       "      <td>-16.204</td>\n",
       "      <td>1</td>\n",
       "      <td>0.0388</td>\n",
       "      <td>0.418</td>\n",
       "      <td>0.317000</td>\n",
       "      <td>0.0687</td>\n",
       "      <td>0.938</td>\n",
       "      <td>102.597</td>\n",
       "      <td>515000.0</td>\n",
       "      <td>4</td>\n",
       "      <td>Blues</td>\n",
       "    </tr>\n",
       "    <tr>\n",
       "      <th>1</th>\n",
       "      <td>0.699</td>\n",
       "      <td>0.633</td>\n",
       "      <td>11</td>\n",
       "      <td>-6.249</td>\n",
       "      <td>1</td>\n",
       "      <td>0.0261</td>\n",
       "      <td>0.436</td>\n",
       "      <td>0.000093</td>\n",
       "      <td>0.0291</td>\n",
       "      <td>0.907</td>\n",
       "      <td>91.398</td>\n",
       "      <td>167040.0</td>\n",
       "      <td>4</td>\n",
       "      <td>Blues</td>\n",
       "    </tr>\n",
       "    <tr>\n",
       "      <th>2</th>\n",
       "      <td>0.640</td>\n",
       "      <td>0.496</td>\n",
       "      <td>2</td>\n",
       "      <td>-11.124</td>\n",
       "      <td>1</td>\n",
       "      <td>0.0413</td>\n",
       "      <td>0.616</td>\n",
       "      <td>0.000046</td>\n",
       "      <td>0.1830</td>\n",
       "      <td>0.954</td>\n",
       "      <td>116.632</td>\n",
       "      <td>253333.0</td>\n",
       "      <td>4</td>\n",
       "      <td>Blues</td>\n",
       "    </tr>\n",
       "    <tr>\n",
       "      <th>3</th>\n",
       "      <td>0.572</td>\n",
       "      <td>0.348</td>\n",
       "      <td>0</td>\n",
       "      <td>-13.454</td>\n",
       "      <td>1</td>\n",
       "      <td>0.0293</td>\n",
       "      <td>0.438</td>\n",
       "      <td>0.000731</td>\n",
       "      <td>0.2350</td>\n",
       "      <td>0.340</td>\n",
       "      <td>73.303</td>\n",
       "      <td>275267.0</td>\n",
       "      <td>4</td>\n",
       "      <td>Blues</td>\n",
       "    </tr>\n",
       "    <tr>\n",
       "      <th>4</th>\n",
       "      <td>0.775</td>\n",
       "      <td>0.499</td>\n",
       "      <td>4</td>\n",
       "      <td>-7.181</td>\n",
       "      <td>1</td>\n",
       "      <td>0.0415</td>\n",
       "      <td>0.496</td>\n",
       "      <td>0.021900</td>\n",
       "      <td>0.1140</td>\n",
       "      <td>0.862</td>\n",
       "      <td>121.056</td>\n",
       "      <td>232707.0</td>\n",
       "      <td>4</td>\n",
       "      <td>Blues</td>\n",
       "    </tr>\n",
       "  </tbody>\n",
       "</table>\n",
       "</div>"
      ],
      "text/plain": [
       "   danceability  energy key  loudness mode  speechiness  acousticness  \\\n",
       "0         0.872   0.384   0   -16.204    1       0.0388         0.418   \n",
       "1         0.699   0.633  11    -6.249    1       0.0261         0.436   \n",
       "2         0.640   0.496   2   -11.124    1       0.0413         0.616   \n",
       "3         0.572   0.348   0   -13.454    1       0.0293         0.438   \n",
       "4         0.775   0.499   4    -7.181    1       0.0415         0.496   \n",
       "\n",
       "   instrumentalness  liveness  valence    tempo  duration_ms time_signature  \\\n",
       "0          0.317000    0.0687    0.938  102.597     515000.0              4   \n",
       "1          0.000093    0.0291    0.907   91.398     167040.0              4   \n",
       "2          0.000046    0.1830    0.954  116.632     253333.0              4   \n",
       "3          0.000731    0.2350    0.340   73.303     275267.0              4   \n",
       "4          0.021900    0.1140    0.862  121.056     232707.0              4   \n",
       "\n",
       "  main_genre  \n",
       "0      Blues  \n",
       "1      Blues  \n",
       "2      Blues  \n",
       "3      Blues  \n",
       "4      Blues  "
      ]
     },
     "execution_count": 167,
     "metadata": {},
     "output_type": "execute_result"
    }
   ],
   "source": [
    "df_songs.head()"
   ]
  },
  {
   "cell_type": "code",
   "execution_count": 168,
   "metadata": {},
   "outputs": [
    {
     "data": {
      "text/html": [
       "<div>\n",
       "<style scoped>\n",
       "    .dataframe tbody tr th:only-of-type {\n",
       "        vertical-align: middle;\n",
       "    }\n",
       "\n",
       "    .dataframe tbody tr th {\n",
       "        vertical-align: top;\n",
       "    }\n",
       "\n",
       "    .dataframe thead th {\n",
       "        text-align: right;\n",
       "    }\n",
       "</style>\n",
       "<table border=\"1\" class=\"dataframe\">\n",
       "  <thead>\n",
       "    <tr style=\"text-align: right;\">\n",
       "      <th></th>\n",
       "      <th>count</th>\n",
       "      <th>unique</th>\n",
       "      <th>top</th>\n",
       "      <th>freq</th>\n",
       "      <th>mean</th>\n",
       "      <th>std</th>\n",
       "      <th>min</th>\n",
       "      <th>25%</th>\n",
       "      <th>50%</th>\n",
       "      <th>75%</th>\n",
       "      <th>max</th>\n",
       "    </tr>\n",
       "  </thead>\n",
       "  <tbody>\n",
       "    <tr>\n",
       "      <th>danceability</th>\n",
       "      <td>119739</td>\n",
       "      <td>NaN</td>\n",
       "      <td>NaN</td>\n",
       "      <td>NaN</td>\n",
       "      <td>0.556901</td>\n",
       "      <td>0.17726</td>\n",
       "      <td>0</td>\n",
       "      <td>0.436</td>\n",
       "      <td>0.561</td>\n",
       "      <td>0.69</td>\n",
       "      <td>0.99</td>\n",
       "    </tr>\n",
       "    <tr>\n",
       "      <th>energy</th>\n",
       "      <td>119739</td>\n",
       "      <td>NaN</td>\n",
       "      <td>NaN</td>\n",
       "      <td>NaN</td>\n",
       "      <td>0.6924</td>\n",
       "      <td>0.234023</td>\n",
       "      <td>2.02e-05</td>\n",
       "      <td>0.542</td>\n",
       "      <td>0.738</td>\n",
       "      <td>0.888</td>\n",
       "      <td>1</td>\n",
       "    </tr>\n",
       "    <tr>\n",
       "      <th>key</th>\n",
       "      <td>119739</td>\n",
       "      <td>12</td>\n",
       "      <td>7</td>\n",
       "      <td>14293</td>\n",
       "      <td>NaN</td>\n",
       "      <td>NaN</td>\n",
       "      <td>NaN</td>\n",
       "      <td>NaN</td>\n",
       "      <td>NaN</td>\n",
       "      <td>NaN</td>\n",
       "      <td>NaN</td>\n",
       "    </tr>\n",
       "    <tr>\n",
       "      <th>loudness</th>\n",
       "      <td>119739</td>\n",
       "      <td>NaN</td>\n",
       "      <td>NaN</td>\n",
       "      <td>NaN</td>\n",
       "      <td>-7.68907</td>\n",
       "      <td>4.02761</td>\n",
       "      <td>-48.131</td>\n",
       "      <td>-9.5315</td>\n",
       "      <td>-6.692</td>\n",
       "      <td>-4.884</td>\n",
       "      <td>3.744</td>\n",
       "    </tr>\n",
       "    <tr>\n",
       "      <th>mode</th>\n",
       "      <td>119739</td>\n",
       "      <td>2</td>\n",
       "      <td>1</td>\n",
       "      <td>76632</td>\n",
       "      <td>NaN</td>\n",
       "      <td>NaN</td>\n",
       "      <td>NaN</td>\n",
       "      <td>NaN</td>\n",
       "      <td>NaN</td>\n",
       "      <td>NaN</td>\n",
       "      <td>NaN</td>\n",
       "    </tr>\n",
       "    <tr>\n",
       "      <th>speechiness</th>\n",
       "      <td>119739</td>\n",
       "      <td>NaN</td>\n",
       "      <td>NaN</td>\n",
       "      <td>NaN</td>\n",
       "      <td>0.0810534</td>\n",
       "      <td>0.0777408</td>\n",
       "      <td>0</td>\n",
       "      <td>0.0363</td>\n",
       "      <td>0.0511</td>\n",
       "      <td>0.0903</td>\n",
       "      <td>0.949</td>\n",
       "    </tr>\n",
       "    <tr>\n",
       "      <th>acousticness</th>\n",
       "      <td>119739</td>\n",
       "      <td>NaN</td>\n",
       "      <td>NaN</td>\n",
       "      <td>NaN</td>\n",
       "      <td>0.21895</td>\n",
       "      <td>0.288542</td>\n",
       "      <td>0</td>\n",
       "      <td>0.00451</td>\n",
       "      <td>0.0702</td>\n",
       "      <td>0.345</td>\n",
       "      <td>0.996</td>\n",
       "    </tr>\n",
       "    <tr>\n",
       "      <th>instrumentalness</th>\n",
       "      <td>119739</td>\n",
       "      <td>NaN</td>\n",
       "      <td>NaN</td>\n",
       "      <td>NaN</td>\n",
       "      <td>0.134626</td>\n",
       "      <td>0.277757</td>\n",
       "      <td>0</td>\n",
       "      <td>0</td>\n",
       "      <td>0.000184</td>\n",
       "      <td>0.0497</td>\n",
       "      <td>0.996</td>\n",
       "    </tr>\n",
       "    <tr>\n",
       "      <th>liveness</th>\n",
       "      <td>119739</td>\n",
       "      <td>NaN</td>\n",
       "      <td>NaN</td>\n",
       "      <td>NaN</td>\n",
       "      <td>0.206987</td>\n",
       "      <td>0.180213</td>\n",
       "      <td>0</td>\n",
       "      <td>0.0947</td>\n",
       "      <td>0.133</td>\n",
       "      <td>0.274</td>\n",
       "      <td>1</td>\n",
       "    </tr>\n",
       "    <tr>\n",
       "      <th>valence</th>\n",
       "      <td>119739</td>\n",
       "      <td>NaN</td>\n",
       "      <td>NaN</td>\n",
       "      <td>NaN</td>\n",
       "      <td>0.513785</td>\n",
       "      <td>0.258528</td>\n",
       "      <td>0</td>\n",
       "      <td>0.304</td>\n",
       "      <td>0.513</td>\n",
       "      <td>0.727</td>\n",
       "      <td>1</td>\n",
       "    </tr>\n",
       "    <tr>\n",
       "      <th>tempo</th>\n",
       "      <td>119739</td>\n",
       "      <td>NaN</td>\n",
       "      <td>NaN</td>\n",
       "      <td>NaN</td>\n",
       "      <td>123.367</td>\n",
       "      <td>29.3722</td>\n",
       "      <td>0</td>\n",
       "      <td>100.032</td>\n",
       "      <td>121.983</td>\n",
       "      <td>140.745</td>\n",
       "      <td>247.91</td>\n",
       "    </tr>\n",
       "    <tr>\n",
       "      <th>duration_ms</th>\n",
       "      <td>119739</td>\n",
       "      <td>NaN</td>\n",
       "      <td>NaN</td>\n",
       "      <td>NaN</td>\n",
       "      <td>245625</td>\n",
       "      <td>93024</td>\n",
       "      <td>4812</td>\n",
       "      <td>192825</td>\n",
       "      <td>228187</td>\n",
       "      <td>276160</td>\n",
       "      <td>3.81637e+06</td>\n",
       "    </tr>\n",
       "    <tr>\n",
       "      <th>time_signature</th>\n",
       "      <td>119739</td>\n",
       "      <td>5</td>\n",
       "      <td>4</td>\n",
       "      <td>109820</td>\n",
       "      <td>NaN</td>\n",
       "      <td>NaN</td>\n",
       "      <td>NaN</td>\n",
       "      <td>NaN</td>\n",
       "      <td>NaN</td>\n",
       "      <td>NaN</td>\n",
       "      <td>NaN</td>\n",
       "    </tr>\n",
       "    <tr>\n",
       "      <th>main_genre</th>\n",
       "      <td>119739</td>\n",
       "      <td>16</td>\n",
       "      <td>Rock</td>\n",
       "      <td>23600</td>\n",
       "      <td>NaN</td>\n",
       "      <td>NaN</td>\n",
       "      <td>NaN</td>\n",
       "      <td>NaN</td>\n",
       "      <td>NaN</td>\n",
       "      <td>NaN</td>\n",
       "      <td>NaN</td>\n",
       "    </tr>\n",
       "  </tbody>\n",
       "</table>\n",
       "</div>"
      ],
      "text/plain": [
       "                   count unique   top    freq       mean        std       min  \\\n",
       "danceability      119739    NaN   NaN     NaN   0.556901    0.17726         0   \n",
       "energy            119739    NaN   NaN     NaN     0.6924   0.234023  2.02e-05   \n",
       "key               119739     12     7   14293        NaN        NaN       NaN   \n",
       "loudness          119739    NaN   NaN     NaN   -7.68907    4.02761   -48.131   \n",
       "mode              119739      2     1   76632        NaN        NaN       NaN   \n",
       "speechiness       119739    NaN   NaN     NaN  0.0810534  0.0777408         0   \n",
       "acousticness      119739    NaN   NaN     NaN    0.21895   0.288542         0   \n",
       "instrumentalness  119739    NaN   NaN     NaN   0.134626   0.277757         0   \n",
       "liveness          119739    NaN   NaN     NaN   0.206987   0.180213         0   \n",
       "valence           119739    NaN   NaN     NaN   0.513785   0.258528         0   \n",
       "tempo             119739    NaN   NaN     NaN    123.367    29.3722         0   \n",
       "duration_ms       119739    NaN   NaN     NaN     245625      93024      4812   \n",
       "time_signature    119739      5     4  109820        NaN        NaN       NaN   \n",
       "main_genre        119739     16  Rock   23600        NaN        NaN       NaN   \n",
       "\n",
       "                      25%       50%      75%          max  \n",
       "danceability        0.436     0.561     0.69         0.99  \n",
       "energy              0.542     0.738    0.888            1  \n",
       "key                   NaN       NaN      NaN          NaN  \n",
       "loudness          -9.5315    -6.692   -4.884        3.744  \n",
       "mode                  NaN       NaN      NaN          NaN  \n",
       "speechiness        0.0363    0.0511   0.0903        0.949  \n",
       "acousticness      0.00451    0.0702    0.345        0.996  \n",
       "instrumentalness        0  0.000184   0.0497        0.996  \n",
       "liveness           0.0947     0.133    0.274            1  \n",
       "valence             0.304     0.513    0.727            1  \n",
       "tempo             100.032   121.983  140.745       247.91  \n",
       "duration_ms        192825    228187   276160  3.81637e+06  \n",
       "time_signature        NaN       NaN      NaN          NaN  \n",
       "main_genre            NaN       NaN      NaN          NaN  "
      ]
     },
     "execution_count": 168,
     "metadata": {},
     "output_type": "execute_result"
    }
   ],
   "source": [
    "df_songs.describe(include = \"all\").T"
   ]
  },
  {
   "cell_type": "code",
   "execution_count": 169,
   "metadata": {},
   "outputs": [
    {
     "name": "stdout",
     "output_type": "stream",
     "text": [
      "<class 'pandas.core.frame.DataFrame'>\n",
      "RangeIndex: 119739 entries, 0 to 119738\n",
      "Data columns (total 14 columns):\n",
      " #   Column            Non-Null Count   Dtype  \n",
      "---  ------            --------------   -----  \n",
      " 0   danceability      119739 non-null  float64\n",
      " 1   energy            119739 non-null  float64\n",
      " 2   key               119739 non-null  object \n",
      " 3   loudness          119739 non-null  float64\n",
      " 4   mode              119739 non-null  object \n",
      " 5   speechiness       119739 non-null  float64\n",
      " 6   acousticness      119739 non-null  float64\n",
      " 7   instrumentalness  119739 non-null  float64\n",
      " 8   liveness          119739 non-null  float64\n",
      " 9   valence           119739 non-null  float64\n",
      " 10  tempo             119739 non-null  float64\n",
      " 11  duration_ms       119739 non-null  float64\n",
      " 12  time_signature    119739 non-null  object \n",
      " 13  main_genre        119739 non-null  object \n",
      "dtypes: float64(10), object(4)\n",
      "memory usage: 12.8+ MB\n"
     ]
    }
   ],
   "source": [
    "df_songs.info()"
   ]
  },
  {
   "cell_type": "code",
   "execution_count": 170,
   "metadata": {},
   "outputs": [],
   "source": [
    "df_songs.to_pickle('songlist_with_features_clean_all_genres.pickle')"
   ]
  }
 ],
 "metadata": {
  "kernelspec": {
   "display_name": "Python 3",
   "language": "python",
   "name": "python3"
  },
  "language_info": {
   "codemirror_mode": {
    "name": "ipython",
    "version": 3
   },
   "file_extension": ".py",
   "mimetype": "text/x-python",
   "name": "python",
   "nbconvert_exporter": "python",
   "pygments_lexer": "ipython3",
   "version": "3.8.5"
  }
 },
 "nbformat": 4,
 "nbformat_minor": 4
}
